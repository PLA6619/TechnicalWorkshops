{
 "cells": [
  {
   "cell_type": "markdown",
   "metadata": {},
   "source": [
    "PLA6619 Introduction to Urban Data and Informatics\\\n",
    "Friday, September 29, 2023 \\\n",
    "Week04\n",
    "\n",
    "# Lab 03\n",
    "\n",
    "\n",
    "## Today's Agenda\n",
    "\n",
    "1. More data manipulation practice with Pandas\n",
    "2. Exploratory Data Analysis + Intro to Data Visualization using Matplotlib\n",
    "\n",
    "## Resources\n",
    "* Python Data Science Handbook: Essential Tools for Working with Data by Jake VanderPlas (https://jakevdp.github.io/PythonDataScienceHandbook/). \n",
    "* Matplotlib resources (https://matplotlib.org/)\n",
    "* Python colors (https://matplotlib.org/gallery/color/named_colors.html)"
   ]
  },
  {
   "cell_type": "markdown",
   "metadata": {},
   "source": [
    "## Load required packages"
   ]
  },
  {
   "cell_type": "code",
   "execution_count": null,
   "metadata": {},
   "outputs": [],
   "source": [
    "# To ignore unimporant system warnings\n",
    "import warnings\n",
    "warnings.filterwarnings(\"ignore\")\n",
    "\n",
    "# Import Pandas, Numpy, and Matplotlib \n",
    "import pandas as pd\n",
    "import numpy as np\n",
    "import matplotlib.pyplot as plt\n",
    "\n",
    "# A magic functin that renders figures in a notebook \n",
    "%matplotlib inline "
   ]
  },
  {
   "cell_type": "markdown",
   "metadata": {},
   "source": [
    "# PART 1. Data Preparation"
   ]
  },
  {
   "cell_type": "markdown",
   "metadata": {},
   "source": [
    "## 1. Load Datasets\n",
    "\n",
    "* `'nyc_covid_updated_09272020.csv'`, NYC COVID-19 data at zipcode level, updated September 27th 2020 (https://github.com/nychealth/coronavirus-data/blob/master/data-by-modzcta.csv)\n",
    "* `'nyc_var.csv'`, NYC zipcode level data on median income and average household size. The original data is from ACS. \n",
    "* FYI, the second dataset has duplicates."
   ]
  },
  {
   "cell_type": "code",
   "execution_count": null,
   "metadata": {},
   "outputs": [],
   "source": [
    "# Load Covid-19 Data\n",
    "# If you already know the column information of the dataset, you can specify data type while loading, by using dtype"
   ]
  },
  {
   "cell_type": "code",
   "execution_count": null,
   "metadata": {
    "scrolled": true
   },
   "outputs": [],
   "source": [
    "# Load Neighborhood Variable Data"
   ]
  },
  {
   "cell_type": "markdown",
   "metadata": {},
   "source": [
    "## 2. Check duplicate data\n",
    "* There should only be unique values in the 'Zipcode' column.\n",
    "* Syntax:\n",
    "    \n",
    "     `DATAFRAME_NAME.duplicated()` --> this returns boolean series with true value for each duplicated row\n",
    "     `DATAFRAME_NAME.duplicated().sum()` --> this returns total number of duplicated rows"
   ]
  },
  {
   "cell_type": "code",
   "execution_count": null,
   "metadata": {},
   "outputs": [],
   "source": [
    "# For the covid data"
   ]
  },
  {
   "cell_type": "markdown",
   "metadata": {},
   "source": [
    "## 3. Remove duplicated rows\n",
    "* Syntax:\n",
    "\n",
    "        DATAFRAME_NAME.drop_duplicates()"
   ]
  },
  {
   "cell_type": "code",
   "execution_count": null,
   "metadata": {},
   "outputs": [],
   "source": []
  },
  {
   "cell_type": "markdown",
   "metadata": {},
   "source": [
    "## 4. Join two datasets\n",
    "![title](https://pandas.pydata.org/pandas-docs/stable/_images/merging_merge_on_key.png)\n",
    "* We are trying to join two tables (df_covid and df_var) based on a common column: 'Zipcode'\n",
    "* If you want to learn more about merge, join, or concatenate functions of Pandas, here is a useful link (https://pandas.pydata.org/pandas-docs/stable/user_guide/merging.html) "
   ]
  },
  {
   "cell_type": "markdown",
   "metadata": {},
   "source": [
    "* Syntax:\n",
    "    `pd.merge(left_data, right_data, how= , on= )`"
   ]
  },
  {
   "cell_type": "code",
   "execution_count": null,
   "metadata": {},
   "outputs": [],
   "source": []
  },
  {
   "cell_type": "markdown",
   "metadata": {},
   "source": [
    "# PART 2. Exploratory Data Analysis\n",
    "## 1. Descriptive Statistics\n",
    "* `.describe` is a magic function to print out descriptive stats of all columns"
   ]
  },
  {
   "cell_type": "code",
   "execution_count": null,
   "metadata": {},
   "outputs": [],
   "source": [
    "# .describe is a function to print out descriptive statistics of all columns\n",
    "# .round() is a function for rounding up"
   ]
  },
  {
   "cell_type": "markdown",
   "metadata": {},
   "source": [
    "## 2. Histogram"
   ]
  },
  {
   "cell_type": "code",
   "execution_count": null,
   "metadata": {},
   "outputs": [],
   "source": [
    "# Default setting"
   ]
  },
  {
   "cell_type": "code",
   "execution_count": null,
   "metadata": {},
   "outputs": [],
   "source": [
    "# width, height in inches\n",
    "# If you make this True, then the gird will be shown\n",
    "\n",
    "# Plot vertical line (mean)\n",
    "\n",
    "\n",
    "#Adjust labels (x axis and y axis)\n",
    "\n",
    "\n",
    "#Legend, title & export\n",
    "\n",
    "\n",
    "# you can disregard this line but if you use plt.show() then just plot is shown without any processing text"
   ]
  },
  {
   "cell_type": "markdown",
   "metadata": {},
   "source": [
    "## 3. Plotting multiple plots at the same time"
   ]
  },
  {
   "cell_type": "code",
   "execution_count": null,
   "metadata": {},
   "outputs": [],
   "source": [
    "# define your figure\n",
    "\n",
    "# first plot of two by two \n",
    "\n",
    "\n",
    "# second plot\n",
    "\n",
    "\n",
    "# third plot\n",
    "\n",
    "\n",
    "# fourth plot\n"
   ]
  },
  {
   "cell_type": "markdown",
   "metadata": {},
   "source": [
    "## 4. Scatter plot\n",
    "* Syntax:\n",
    "\n",
    "    `plt.scatter(DATAFRAME['COLUMN1'],DATAFRAME['COLUMN2'])` or\n",
    "    `sns.regplot(x='COLUMN1', y='COLUMN2', data=DATA)`"
   ]
  },
  {
   "cell_type": "code",
   "execution_count": null,
   "metadata": {},
   "outputs": [],
   "source": []
  },
  {
   "cell_type": "code",
   "execution_count": null,
   "metadata": {},
   "outputs": [],
   "source": [
    "import seaborn as sns # useful data viz package with Matplotlib"
   ]
  },
  {
   "cell_type": "code",
   "execution_count": null,
   "metadata": {},
   "outputs": [],
   "source": [
    "# Using seaborn package"
   ]
  },
  {
   "cell_type": "markdown",
   "metadata": {},
   "source": [
    "## 5. Correlation plots (scatter matrix plots) and correlation test\n",
    "\n",
    "Compute pairwise correlation of columns, excluding NA/null values\n",
    "\n",
    "Method of correlation\n",
    "* pearson : standard correlation coefficient (Default)\n",
    "* kendall : Kendall Tau correlation coefficient\n",
    "* spearman : Spearman rank correlation\n"
   ]
  },
  {
   "cell_type": "code",
   "execution_count": null,
   "metadata": {},
   "outputs": [],
   "source": [
    "from pandas.plotting import scatter_matrix"
   ]
  },
  {
   "cell_type": "code",
   "execution_count": null,
   "metadata": {},
   "outputs": [],
   "source": []
  },
  {
   "cell_type": "code",
   "execution_count": null,
   "metadata": {},
   "outputs": [],
   "source": [
    "# defalt; person\n"
   ]
  },
  {
   "cell_type": "markdown",
   "metadata": {},
   "source": [
    "## 6. Heatmap"
   ]
  },
  {
   "cell_type": "code",
   "execution_count": null,
   "metadata": {},
   "outputs": [],
   "source": []
  },
  {
   "cell_type": "code",
   "execution_count": null,
   "metadata": {},
   "outputs": [],
   "source": [
    "# # Set up the matplotlib figure\n",
    "\n",
    "\n",
    "# # plot the heatmap and annotation on it\n"
   ]
  },
  {
   "cell_type": "code",
   "execution_count": null,
   "metadata": {},
   "outputs": [],
   "source": [
    "# Mark 'true' for the upper-triangle \n",
    "\n",
    "# plot the heatmap \n"
   ]
  },
  {
   "cell_type": "code",
   "execution_count": null,
   "metadata": {},
   "outputs": [],
   "source": [
    "# # Set up the matplotlib figure\n",
    "\n",
    "\n",
    "# # Generate a mask for the upper triangle\n",
    "\n",
    "\n",
    "# # plot the heatmap and annotation on it\n"
   ]
  },
  {
   "cell_type": "markdown",
   "metadata": {},
   "source": [
    "## 7. Line plot (applicable to timeseries)\n",
    "* X-axis is based on the index of the dataframe"
   ]
  },
  {
   "cell_type": "code",
   "execution_count": null,
   "metadata": {},
   "outputs": [],
   "source": [
    "# set the index of the dataframe (zipcode)\n"
   ]
  },
  {
   "cell_type": "code",
   "execution_count": null,
   "metadata": {},
   "outputs": [],
   "source": [
    "# Specify x-axis ticks\n"
   ]
  },
  {
   "cell_type": "markdown",
   "metadata": {},
   "source": [
    "## 8. Bar charts (using groupby)\n",
    "* Basic syntax to plot a bar chart is\n",
    "        \n",
    "        plt.bar(keys, values)"
   ]
  },
  {
   "cell_type": "code",
   "execution_count": null,
   "metadata": {},
   "outputs": [],
   "source": []
  },
  {
   "cell_type": "code",
   "execution_count": null,
   "metadata": {},
   "outputs": [],
   "source": []
  },
  {
   "cell_type": "code",
   "execution_count": null,
   "metadata": {},
   "outputs": [],
   "source": []
  },
  {
   "cell_type": "markdown",
   "metadata": {},
   "source": [
    "# Exercise 1: create a bar chart of total COVID-19 tests by boro"
   ]
  },
  {
   "cell_type": "code",
   "execution_count": null,
   "metadata": {},
   "outputs": [],
   "source": []
  },
  {
   "cell_type": "markdown",
   "metadata": {},
   "source": [
    "# Exercise 2: Load 311 data that we used last week and create a line chart of hourly 311 complaint volume based on timestamp information\n",
    "* Data: `'../Intro to Urban Data (GSAPP, 2023)/Data/311_Service_Requests_09202022.csv'`\n",
    "* Hint 1: you need to convert timestamp information into datetime data type `pd.to_datetime()`\n",
    "* Hint 2: create a new column representing 'hour' information (i.e. `dt.hour`)"
   ]
  },
  {
   "cell_type": "code",
   "execution_count": null,
   "metadata": {},
   "outputs": [],
   "source": []
  }
 ],
 "metadata": {
  "kernelspec": {
   "display_name": "Python 3 (ipykernel)",
   "language": "python",
   "name": "python3"
  },
  "language_info": {
   "codemirror_mode": {
    "name": "ipython",
    "version": 3
   },
   "file_extension": ".py",
   "mimetype": "text/x-python",
   "name": "python",
   "nbconvert_exporter": "python",
   "pygments_lexer": "ipython3",
   "version": "3.9.16"
  }
 },
 "nbformat": 4,
 "nbformat_minor": 2
}
